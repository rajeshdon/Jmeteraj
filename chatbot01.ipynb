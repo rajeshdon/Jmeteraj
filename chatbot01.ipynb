{
  "nbformat": 4,
  "nbformat_minor": 0,
  "metadata": {
    "colab": {
      "name": "chatbot01.ipynb",
      "provenance": [],
      "collapsed_sections": [],
      "authorship_tag": "ABX9TyMSKBj23WjVhxQ0s2Eu3WTE",
      "include_colab_link": true
    },
    "kernelspec": {
      "name": "python3",
      "display_name": "Python 3"
    }
  },
  "cells": [
    {
      "cell_type": "markdown",
      "metadata": {
        "id": "view-in-github",
        "colab_type": "text"
      },
      "source": [
        "<a href=\"https://colab.research.google.com/github/rajeshdon/Jmeteraj/blob/master/chatbot01.ipynb\" target=\"_parent\"><img src=\"https://colab.research.google.com/assets/colab-badge.svg\" alt=\"Open In Colab\"/></a>"
      ]
    },
    {
      "cell_type": "code",
      "metadata": {
        "id": "AO6a2DZGugjd",
        "colab_type": "code",
        "outputId": "fc106380-1160-4f3f-ee7f-1704939fcda5",
        "colab": {
          "base_uri": "https://localhost:8080/",
          "height": 106
        }
      },
      "source": [
        "from nltk.chat.util import Chat, reflections\n",
        "pairs=[\n",
        "\t['my name is (.*)',['Hello %1']],\n",
        "\t['How are you doing',['I am doing great']],\n",
        "\t]\n",
        "chat= Chat(pairs,reflections)\n",
        "chat.converse()\n"
      ],
      "execution_count": 0,
      "outputs": [
        {
          "output_type": "stream",
          "text": [
            ">how are you doing\n",
            "I am doing great\n",
            ">i am sleeping\n",
            "None\n"
          ],
          "name": "stdout"
        }
      ]
    },
    {
      "cell_type": "code",
      "metadata": {
        "id": "wjsgEYwwxXVA",
        "colab_type": "code",
        "colab": {}
      },
      "source": [
        ""
      ],
      "execution_count": 0,
      "outputs": []
    }
  ]
}