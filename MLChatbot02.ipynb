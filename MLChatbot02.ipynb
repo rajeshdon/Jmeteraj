{
  "nbformat": 4,
  "nbformat_minor": 0,
  "metadata": {
    "colab": {
      "name": "MLChatbot02.ipynb",
      "provenance": [],
      "collapsed_sections": [],
      "authorship_tag": "ABX9TyOKX/wZ2l2wugv9raJdxixa",
      "include_colab_link": true
    },
    "kernelspec": {
      "name": "python3",
      "display_name": "Python 3"
    }
  },
  "cells": [
    {
      "cell_type": "markdown",
      "metadata": {
        "id": "view-in-github",
        "colab_type": "text"
      },
      "source": [
        "<a href=\"https://colab.research.google.com/github/rajeshdon/Jmeteraj/blob/master/MLChatbot02.ipynb\" target=\"_parent\"><img src=\"https://colab.research.google.com/assets/colab-badge.svg\" alt=\"Open In Colab\"/></a>"
      ]
    },
    {
      "cell_type": "code",
      "metadata": {
        "id": "vgixgOiMNlMq",
        "colab_type": "code",
        "outputId": "499e7d39-a2e6-4b74-bb35-42f850bbb936",
        "colab": {
          "base_uri": "https://localhost:8080/",
          "height": 72
        }
      },
      "source": [
        "#This is a program to understand self learning capacity of chatbot\n",
        "#Install the NLTK package\n",
        "%pip install nltk"
      ],
      "execution_count": 0,
      "outputs": [
        {
          "output_type": "stream",
          "text": [
            "Requirement already satisfied: nltk in /usr/local/lib/python3.6/dist-packages (3.2.5)\n",
            "Requirement already satisfied: six in /usr/local/lib/python3.6/dist-packages (from nltk) (1.12.0)\n"
          ],
          "name": "stdout"
        }
      ]
    },
    {
      "cell_type": "code",
      "metadata": {
        "id": "gUmPTqEQPZH4",
        "colab_type": "code",
        "colab": {}
      },
      "source": [
        "#Install newspaper package\n",
        "%pip install newspaper3k\n"
      ],
      "execution_count": 0,
      "outputs": []
    },
    {
      "cell_type": "code",
      "metadata": {
        "id": "XWnWe2DnQayk",
        "colab_type": "code",
        "colab": {}
      },
      "source": [
        "# import packages\n",
        "from newspaper import Article\n",
        "import random\n",
        "import string\n",
        "from sklearn.feature_extraction.text import TfidfVectorizer\n",
        "from sklearn.metrics.pairwise import cosine_similarity\n",
        "import nltk\n",
        "import numpy as np\n",
        "import warnings\n"
      ],
      "execution_count": 0,
      "outputs": []
    },
    {
      "cell_type": "code",
      "metadata": {
        "id": "njm2MAH5XCWT",
        "colab_type": "code",
        "colab": {}
      },
      "source": [
        "#Ignore any warning messages \n",
        "warnings.filterwarnings('ignore')"
      ],
      "execution_count": 0,
      "outputs": []
    },
    {
      "cell_type": "code",
      "metadata": {
        "id": "F_5c3RPxXCZc",
        "colab_type": "code",
        "colab": {
          "base_uri": "https://localhost:8080/",
          "height": 35
        },
        "outputId": "a53f5ce6-64e6-4e33-9c8b-693a3a890905"
      },
      "source": [
        "#download the package from NLTK\n",
        "nltk.download('punkt',quiet=True)\n",
        "nltk.download('wordnet',quiet=True)"
      ],
      "execution_count": 6,
      "outputs": [
        {
          "output_type": "execute_result",
          "data": {
            "text/plain": [
              "True"
            ]
          },
          "metadata": {
            "tags": []
          },
          "execution_count": 6
        }
      ]
    },
    {
      "cell_type": "code",
      "metadata": {
        "id": "p_iMlxiyX9AM",
        "colab_type": "code",
        "colab": {}
      },
      "source": [
        "# get the url to be analysed\n",
        "article = Article('https://www.mayoclinic.org/diseases-conditions/diabetes/symptoms-causes/syc-20371444')\n",
        "article.download()\n",
        "article.parse()\n",
        "article.nlp()\n",
        "corpus=article.text\n",
        "\n",
        "# print the corpus /text\n",
        "print(corpus)\n"
      ],
      "execution_count": 0,
      "outputs": []
    },
    {
      "cell_type": "code",
      "metadata": {
        "id": "RagJ4J_2a18q",
        "colab_type": "code",
        "colab": {}
      },
      "source": [
        "# Tokenization\n",
        "text=corpus\n",
        "sent_tokens=nltk.sent_tokenize(text)\n"
      ],
      "execution_count": 0,
      "outputs": []
    }
  ]
}